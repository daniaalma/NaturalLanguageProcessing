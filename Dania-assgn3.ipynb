{
 "cells": [
  {
   "cell_type": "code",
   "execution_count": null,
   "metadata": {},
   "outputs": [],
   "source": [
    "#get a list of stop words to remove unnecessary words from my counts\n",
    "import nltk\n",
    "from nltk.corpus import stopwords\n",
    "stopit=set(stopwords.words('english'))"
   ]
  },
  {
   "cell_type": "code",
   "execution_count": null,
   "metadata": {},
   "outputs": [],
   "source": [
    "#create a dictionary of positive words and positive reviews\n",
    "\n",
    "from collections import Counter, defaultdict\n",
    "\n",
    "postext=[]\n",
    "poswords=[]\n",
    "positiveword=[]\n",
    "posword=[]\n",
    "\n",
    "with open ('/Users/daniaalma/Desktop/hotelPosT-train.txt','r') as posfile:\n",
    "    for line in posfile.readlines():\n",
    "        identifier, posreview = line.strip().split(\"\\t\")\n",
    "        postext.append(posreview)\n",
    "        positiveword=\" \".join(postext)\n",
    "\n",
    "poswords=positiveword.split(\" \") \n",
    "#print(poswords)"
   ]
  },
  {
   "cell_type": "code",
   "execution_count": null,
   "metadata": {},
   "outputs": [],
   "source": [
    "#create a dictionary of negative words and negative reviews\n",
    "\n",
    "negtext=[]\n",
    "negwords=[]\n",
    "negativeword=[]\n",
    "negword=[]\n",
    "\n",
    "with open ('/Users/daniaalma/Desktop/hotelNegT-train.txt','r') as negfile:\n",
    "    for line in negfile.readlines():\n",
    "        identifier, negreview = line.strip().split(\"\\t\")\n",
    "        negtext.append(negreview)\n",
    "        negativeword=\" \".join(negtext)\n",
    "\n",
    "negwords=negativeword.split(\" \")\n",
    "#print(negwords)"
   ]
  },
  {
   "cell_type": "code",
   "execution_count": null,
   "metadata": {},
   "outputs": [],
   "source": [
    "#make a count of how many reviews there are total(pos and neg)\n",
    "\n",
    "numofreviewstotal=postext+negtext\n",
    "\n",
    "#print(len(numofreviewstotal))"
   ]
  },
  {
   "cell_type": "code",
   "execution_count": null,
   "metadata": {},
   "outputs": [],
   "source": [
    "#create a dictionary of all of the words that occured in all of the reviews....will this affect the algorithm?\n",
    "\n",
    "allwords=negwords+poswords\n",
    "\n",
    "allreviews_words_dictionary=set(allwords)\n",
    "allreviews_words_dictionary.remove('')\n",
    "\n",
    "#print(allreviews_words_dictionary)"
   ]
  },
  {
   "cell_type": "code",
   "execution_count": null,
   "metadata": {},
   "outputs": [],
   "source": [
    "#get a list of all the words that occur in both the pos and negative and remove them....maybe i should get max counts\n",
    "#and use that instead? i noticed that friendly was used in both and i'm not sure if that would help...lets see\n",
    "\n",
    "commonwords=[]\n",
    "#lets try to make a dictionary of the overlapping words in both postext and negtext\n",
    "for commonword in allwords:\n",
    "    if commonword in poswords:\n",
    "        if commonword in negwords:\n",
    "            commonwords.append(commonword)\n",
    "            \n",
    "#print(commonwords)"
   ]
  },
  {
   "cell_type": "code",
   "execution_count": null,
   "metadata": {},
   "outputs": [],
   "source": [
    "#make a new word dictionary for the pos and neg that are not common with each other\n",
    "\n",
    "for pieces in poswords:\n",
    "    if pieces not in commonwords:\n",
    "        if pieces not in stopit:\n",
    "            posword.append(pieces)\n",
    "    else:\n",
    "        continue\n",
    "\n",
    "for piece in negwords:\n",
    "    if piece not in commonwords:\n",
    "        if piece not in stopit:\n",
    "            negword.append(piece)\n",
    "    else:\n",
    "        continue\n"
   ]
  },
  {
   "cell_type": "code",
   "execution_count": null,
   "metadata": {},
   "outputs": [],
   "source": [
    "#LOGPRIORNEGATIVE AND LOGPRIORPOSITIVE\n",
    "\n",
    "#start algorithm for logprior\n",
    "from math import log\n",
    "\n",
    "logpriorpositive=log(len(postext)/len(numofreviewstotal))\n",
    "\n",
    "logpriornegative=log(len(negtext)/len(numofreviewstotal))\n",
    "#these are my log priors\n",
    "\n",
    "print(logpriornegative)"
   ]
  },
  {
   "cell_type": "code",
   "execution_count": null,
   "metadata": {},
   "outputs": [],
   "source": [
    "#get the counts of the pos and neg words (not common)\n",
    "#oh man i think this might affect my algorithm....... \n",
    "\n",
    "poswordcounts = defaultdict(Counter)\n",
    "poswordcounts=Counter(posword)\n",
    "\n",
    "\n",
    "negwordcounts = defaultdict(Counter)\n",
    "negwordcounts=Counter(negword)\n",
    "\n",
    "#print(negwordcounts)\n"
   ]
  },
  {
   "cell_type": "code",
   "execution_count": null,
   "metadata": {},
   "outputs": [],
   "source": [
    "#LOGLIKELIHOOD\n",
    "\n",
    "loglikelihood={}\n",
    "\n",
    "for word,count in poswordcounts.items():\n",
    "    loglikelihood[word]={'NEG':0}\n",
    "    loglikelihood[word]['POS']=log((count+1)/(len(allwords)+len(set(allwords))))\n",
    "    \n",
    "    \n",
    "for word,count in negwordcounts.items():\n",
    "    if word in loglikelihood:\n",
    "        loglikelihood[word]['NEG']=log((count+1)/(len(allwords)+len(set(allwords))))\n",
    "    else:\n",
    "        loglikelihood[word]={'POS':0}\n",
    "        loglikelihood[word]['NEG']=log((count+1)/(len(allwords)+len(set(allwords))))\n",
    "#print(loglikelihood)"
   ]
  },
  {
   "cell_type": "code",
   "execution_count": null,
   "metadata": {},
   "outputs": [],
   "source": [
    "#algorithm\n",
    "\n",
    "def testnaivebayes(text,logpriornegative,logpriorpositive,loglikelihood,V):\n",
    "    #one review at a time, pos or neg?\n",
    "    negative_predict=0\n",
    "    positive_predict=0\n",
    "    for word in text:\n",
    "        if word in loglikelihood:\n",
    "            negative_predict+=logpriornegative+loglikelihood[word]['NEG']\n",
    "            positive_predict+=logpriorpositive+loglikelihood[word]['POS']\n",
    "        else:\n",
    "            negative_predict+=logpriornegative\n",
    "            positive_predict+=logpriorpositive\n",
    "    if negative_predict<positive_predict:\n",
    "        #log so smaller is better\n",
    "        return 'NEG'\n",
    "    else:\n",
    "        return 'POS'\n",
    "    #still max \n"
   ]
  },
  {
   "cell_type": "code",
   "execution_count": null,
   "metadata": {},
   "outputs": [],
   "source": [
    "#run my test data and create an output\n",
    "\n",
    "testresultsdict={}\n",
    "with open('/Users/daniaalma/Desktop/testset.txt', 'r') as testset:\n",
    "    for line in testset:\n",
    "        testidentifier,testreview = line.strip().split('\\t')\n",
    "        testreviewclean=testreview\n",
    "        label=testnaivebayes(testreviewclean.split(\" \"),logpriornegative,logpriorpositive,loglikelihood,allreviews_words_dictionary)\n",
    "        testresultsdict[testidentifier]=label\n",
    "    \n",
    "with open('/Users/daniaalma/Desktop/Dania-assgn3-test-output.txt', 'a') as output:\n",
    "    for key,value in testresultsdict.items():\n",
    "        output.write(\"{}\\t{}\".format(key,value))\n",
    "        output.write(\"\\n\")"
   ]
  }
 ],
 "metadata": {
  "kernelspec": {
   "display_name": "Python 3",
   "language": "python",
   "name": "python3"
  },
  "language_info": {
   "codemirror_mode": {
    "name": "ipython",
    "version": 3
   },
   "file_extension": ".py",
   "mimetype": "text/x-python",
   "name": "python",
   "nbconvert_exporter": "python",
   "pygments_lexer": "ipython3",
   "version": "3.6.5"
  }
 },
 "nbformat": 4,
 "nbformat_minor": 2
}
